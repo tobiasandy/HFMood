{
 "cells": [
  {
   "cell_type": "markdown",
   "metadata": {
    "_uuid": "385e43a763cf2a2e696526612151db7c079f8909"
   },
   "source": [
    "# Sign Language"
   ]
  },
  {
   "cell_type": "markdown",
   "metadata": {
    "_kg_hide-input": true,
    "_uuid": "2586e6624621731384bd5dda484058cedb8bf859",
    "collapsed": true
   },
   "source": [
    "from IPython.display import Image\n",
    "Image(\"../input/amer_sign2.png\")"
   ]
  },
  {
   "cell_type": "markdown",
   "metadata": {
    "_uuid": "7edbefdee7d8c7ec18be7f29ca2cb9180399b75b"
   },
   "source": [
    "# About the data"
   ]
  },
  {
   "cell_type": "markdown",
   "metadata": {
    "_uuid": "fed611598feffec2b2024c5dcf4fd057b6e2d1eb"
   },
   "source": [
    "The original MNIST image dataset of handwritten digits is a popular benchmark for image-based machine learning methods but researchers have renewed efforts to update it and develop drop-in replacements that are more challenging for computer vision and original for real-world applications. As noted in one recent replacement called the Fashion-MNIST dataset, the Zalando researchers quoted the startling claim that \"Most pairs of MNIST digits (784 total pixels per sample) can be distinguished pretty well by just one pixel\". To stimulate the community to develop more drop-in replacements, the Sign Language MNIST is presented here and follows the same CSV format with labels and pixel values in single rows. The American Sign Language letter database of hand gestures represent a multi-class problem with 24 classes of letters (excluding J and Z which require motion)."
   ]
  },
  {
   "cell_type": "markdown",
   "metadata": {
    "_uuid": "43610b28fcb6c9bd7cb7faf5e16b5b7036e2d63e"
   },
   "source": [
    "Load the dataset"
   ]
  },
  {
   "cell_type": "code",
   "execution_count": 1,
   "metadata": {
    "_kg_hide-input": true,
    "_uuid": "bbcbb713210c674a54142d4ade11072985c94754"
   },
   "outputs": [],
   "source": [
    "import numpy as np\n",
    "import pandas as pd\n",
    "import matplotlib.pyplot as plt\n",
    "import seaborn as sns"
   ]
  },
  {
   "cell_type": "code",
   "execution_count": 2,
   "metadata": {
    "_kg_hide-input": true,
    "_uuid": "39cff8696636f21dd5b26854b6d608a73a635345"
   },
   "outputs": [],
   "source": [
    "train = pd.read_csv('D:/Semester_7/PCD/Tubes/input/sign_mnist_train.csv')\n",
    "test = pd.read_csv('D:/Semester_7/PCD/Tubes/input/sign_mnist_test.csv')"
   ]
  },
  {
   "cell_type": "code",
   "execution_count": 3,
   "metadata": {
    "_kg_hide-input": true,
    "_uuid": "1704cf375513a33e8c0d963feebca7b783b5a0b5"
   },
   "outputs": [
    {
     "data": {
      "text/html": [
       "<div>\n",
       "<style scoped>\n",
       "    .dataframe tbody tr th:only-of-type {\n",
       "        vertical-align: middle;\n",
       "    }\n",
       "\n",
       "    .dataframe tbody tr th {\n",
       "        vertical-align: top;\n",
       "    }\n",
       "\n",
       "    .dataframe thead th {\n",
       "        text-align: right;\n",
       "    }\n",
       "</style>\n",
       "<table border=\"1\" class=\"dataframe\">\n",
       "  <thead>\n",
       "    <tr style=\"text-align: right;\">\n",
       "      <th></th>\n",
       "      <th>label</th>\n",
       "      <th>pixel1</th>\n",
       "      <th>pixel2</th>\n",
       "      <th>pixel3</th>\n",
       "      <th>pixel4</th>\n",
       "      <th>pixel5</th>\n",
       "      <th>pixel6</th>\n",
       "      <th>pixel7</th>\n",
       "      <th>pixel8</th>\n",
       "      <th>pixel9</th>\n",
       "      <th>...</th>\n",
       "      <th>pixel775</th>\n",
       "      <th>pixel776</th>\n",
       "      <th>pixel777</th>\n",
       "      <th>pixel778</th>\n",
       "      <th>pixel779</th>\n",
       "      <th>pixel780</th>\n",
       "      <th>pixel781</th>\n",
       "      <th>pixel782</th>\n",
       "      <th>pixel783</th>\n",
       "      <th>pixel784</th>\n",
       "    </tr>\n",
       "  </thead>\n",
       "  <tbody>\n",
       "    <tr>\n",
       "      <th>0</th>\n",
       "      <td>3</td>\n",
       "      <td>107</td>\n",
       "      <td>118</td>\n",
       "      <td>127</td>\n",
       "      <td>134</td>\n",
       "      <td>139</td>\n",
       "      <td>143</td>\n",
       "      <td>146</td>\n",
       "      <td>150</td>\n",
       "      <td>153</td>\n",
       "      <td>...</td>\n",
       "      <td>207</td>\n",
       "      <td>207</td>\n",
       "      <td>207</td>\n",
       "      <td>207</td>\n",
       "      <td>206</td>\n",
       "      <td>206</td>\n",
       "      <td>206</td>\n",
       "      <td>204</td>\n",
       "      <td>203</td>\n",
       "      <td>202</td>\n",
       "    </tr>\n",
       "    <tr>\n",
       "      <th>1</th>\n",
       "      <td>6</td>\n",
       "      <td>155</td>\n",
       "      <td>157</td>\n",
       "      <td>156</td>\n",
       "      <td>156</td>\n",
       "      <td>156</td>\n",
       "      <td>157</td>\n",
       "      <td>156</td>\n",
       "      <td>158</td>\n",
       "      <td>158</td>\n",
       "      <td>...</td>\n",
       "      <td>69</td>\n",
       "      <td>149</td>\n",
       "      <td>128</td>\n",
       "      <td>87</td>\n",
       "      <td>94</td>\n",
       "      <td>163</td>\n",
       "      <td>175</td>\n",
       "      <td>103</td>\n",
       "      <td>135</td>\n",
       "      <td>149</td>\n",
       "    </tr>\n",
       "    <tr>\n",
       "      <th>2</th>\n",
       "      <td>2</td>\n",
       "      <td>187</td>\n",
       "      <td>188</td>\n",
       "      <td>188</td>\n",
       "      <td>187</td>\n",
       "      <td>187</td>\n",
       "      <td>186</td>\n",
       "      <td>187</td>\n",
       "      <td>188</td>\n",
       "      <td>187</td>\n",
       "      <td>...</td>\n",
       "      <td>202</td>\n",
       "      <td>201</td>\n",
       "      <td>200</td>\n",
       "      <td>199</td>\n",
       "      <td>198</td>\n",
       "      <td>199</td>\n",
       "      <td>198</td>\n",
       "      <td>195</td>\n",
       "      <td>194</td>\n",
       "      <td>195</td>\n",
       "    </tr>\n",
       "    <tr>\n",
       "      <th>3</th>\n",
       "      <td>2</td>\n",
       "      <td>211</td>\n",
       "      <td>211</td>\n",
       "      <td>212</td>\n",
       "      <td>212</td>\n",
       "      <td>211</td>\n",
       "      <td>210</td>\n",
       "      <td>211</td>\n",
       "      <td>210</td>\n",
       "      <td>210</td>\n",
       "      <td>...</td>\n",
       "      <td>235</td>\n",
       "      <td>234</td>\n",
       "      <td>233</td>\n",
       "      <td>231</td>\n",
       "      <td>230</td>\n",
       "      <td>226</td>\n",
       "      <td>225</td>\n",
       "      <td>222</td>\n",
       "      <td>229</td>\n",
       "      <td>163</td>\n",
       "    </tr>\n",
       "    <tr>\n",
       "      <th>4</th>\n",
       "      <td>13</td>\n",
       "      <td>164</td>\n",
       "      <td>167</td>\n",
       "      <td>170</td>\n",
       "      <td>172</td>\n",
       "      <td>176</td>\n",
       "      <td>179</td>\n",
       "      <td>180</td>\n",
       "      <td>184</td>\n",
       "      <td>185</td>\n",
       "      <td>...</td>\n",
       "      <td>92</td>\n",
       "      <td>105</td>\n",
       "      <td>105</td>\n",
       "      <td>108</td>\n",
       "      <td>133</td>\n",
       "      <td>163</td>\n",
       "      <td>157</td>\n",
       "      <td>163</td>\n",
       "      <td>164</td>\n",
       "      <td>179</td>\n",
       "    </tr>\n",
       "  </tbody>\n",
       "</table>\n",
       "<p>5 rows × 785 columns</p>\n",
       "</div>"
      ],
      "text/plain": [
       "   label  pixel1  pixel2  pixel3  pixel4  pixel5  pixel6  pixel7  pixel8  \\\n",
       "0      3     107     118     127     134     139     143     146     150   \n",
       "1      6     155     157     156     156     156     157     156     158   \n",
       "2      2     187     188     188     187     187     186     187     188   \n",
       "3      2     211     211     212     212     211     210     211     210   \n",
       "4     13     164     167     170     172     176     179     180     184   \n",
       "\n",
       "   pixel9  ...  pixel775  pixel776  pixel777  pixel778  pixel779  pixel780  \\\n",
       "0     153  ...       207       207       207       207       206       206   \n",
       "1     158  ...        69       149       128        87        94       163   \n",
       "2     187  ...       202       201       200       199       198       199   \n",
       "3     210  ...       235       234       233       231       230       226   \n",
       "4     185  ...        92       105       105       108       133       163   \n",
       "\n",
       "   pixel781  pixel782  pixel783  pixel784  \n",
       "0       206       204       203       202  \n",
       "1       175       103       135       149  \n",
       "2       198       195       194       195  \n",
       "3       225       222       229       163  \n",
       "4       157       163       164       179  \n",
       "\n",
       "[5 rows x 785 columns]"
      ]
     },
     "execution_count": 3,
     "metadata": {},
     "output_type": "execute_result"
    }
   ],
   "source": [
    "train.head()"
   ]
  },
  {
   "cell_type": "code",
   "execution_count": 4,
   "metadata": {
    "_uuid": "8c2df551d7a771cb4fdc25b574a48a1652f251f0"
   },
   "outputs": [
    {
     "data": {
      "text/plain": [
       "(27455, 785)"
      ]
     },
     "execution_count": 4,
     "metadata": {},
     "output_type": "execute_result"
    }
   ],
   "source": [
    "train.shape"
   ]
  },
  {
   "cell_type": "markdown",
   "metadata": {
    "_uuid": "81fbe2142a6a125bb488c4855e10627537c326ee"
   },
   "source": [
    "The data set is given in the form of labels and pixel value ranging from pixel 1 to pixel 784 which is 28 * 28 image."
   ]
  },
  {
   "cell_type": "markdown",
   "metadata": {
    "_uuid": "c5c6e4b42bd30787413c5a36b1d6a3dd2c0bd76f"
   },
   "source": [
    "Let's see what does each sign means"
   ]
  },
  {
   "cell_type": "markdown",
   "metadata": {
    "_kg_hide-input": true,
    "_uuid": "20bf62e3f3bd4132b3334e4351182b9f95dd3f1f"
   },
   "source": [
    "Image(\"D:/Semester_7/PCD/Tubes/input/american_sign_language.PNG\")"
   ]
  },
  {
   "cell_type": "markdown",
   "metadata": {
    "_uuid": "8b4e745e346f02d6cae12b2518281311c947aab3",
    "collapsed": true
   },
   "source": [
    "Each letter indicates a sign produced by our fingers. We will apply deep learning to these images to make sure our model can understand what sign indicated what letter"
   ]
  },
  {
   "cell_type": "code",
   "execution_count": 5,
   "metadata": {
    "_uuid": "c08c24f5b0f18610feb7fbf0d7772792f78dac8d"
   },
   "outputs": [
    {
     "name": "stdout",
     "output_type": "stream",
     "text": [
      "[ 6  5 10 ...  2  4  2]\n",
      "[ 0  1  2  3  4  5  6  7  8  9 10 11 12 13 14 15 16 17 18 19 20 21 22 23]\n"
     ]
    }
   ],
   "source": [
    "y_train = train['label'].values\n",
    "y_test = test['label'].values\n",
    "print(y_test)\n",
    "\n",
    "uniqval = np.array([0,1,2,3,4,5,6,7,8,9,10,11,12,13,14,15,16,17,18,19,20,21,22,23])\n",
    "print(uniqval)"
   ]
  },
  {
   "cell_type": "markdown",
   "metadata": {
    "_uuid": "46e4bfa083095d0ee14048250875952381d7060b"
   },
   "source": [
    "# Data exploration"
   ]
  },
  {
   "cell_type": "code",
   "execution_count": 6,
   "metadata": {
    "_kg_hide-input": true,
    "_uuid": "7f35db6e0ad4d62e93e82d932dea132ccd17d361"
   },
   "outputs": [
    {
     "data": {
      "text/plain": [
       "<matplotlib.axes._subplots.AxesSubplot at 0x2466f72e7c8>"
      ]
     },
     "execution_count": 6,
     "metadata": {},
     "output_type": "execute_result"
    },
    {
     "data": {
      "image/png": "[encoded data removed]",
      "text/plain": [
       "<Figure size 1296x576 with 1 Axes>"
      ]
     },
     "metadata": {
      "needs_background": "light"
     },
     "output_type": "display_data"
    }
   ],
   "source": [
    "plt.figure(figsize = (18,8))\n",
    "sns.countplot(x = y_train)"
   ]
  },
  {
   "cell_type": "markdown",
   "metadata": {
    "_uuid": "f2806c29690539d6c1fad7a1c3e0aad98656e000"
   },
   "source": [
    "As you can see each one is almost equally distributed"
   ]
  },
  {
   "cell_type": "code",
   "execution_count": 7,
   "metadata": {
    "_uuid": "cf73d03f610be9f134a3ee5e35301b1da4626d02"
   },
   "outputs": [],
   "source": [
    "train.drop('label', axis = 1, inplace = True)\n",
    "test.drop('label', axis = 1, inplace = True)"
   ]
  },
  {
   "cell_type": "markdown",
   "metadata": {
    "_uuid": "4132dc4a950e5789e26dbc1f62d9e98c588ed6ee"
   },
   "source": [
    "We are droping the label coloumn from the training set"
   ]
  },
  {
   "cell_type": "markdown",
   "metadata": {
    "_uuid": "70c52bd461c45292cfda21aff61154009214e281"
   },
   "source": [
    "Re shaping the images"
   ]
  },
  {
   "cell_type": "code",
   "execution_count": 8,
   "metadata": {
    "_uuid": "b25a4af6ed60a970d5f530f4c94aca2e0c2554de"
   },
   "outputs": [],
   "source": [
    "x_train = train.values\n",
    "x_train = np.array([np.reshape(i, (28, 28)) for i in x_train])\n",
    "x_train = np.array([i.flatten() for i in x_train])\n",
    "\n",
    "x_test = test.values\n",
    "x_test = np.array([np.reshape(i, (28, 28)) for i in x_test])\n",
    "x_test = np.array([i.flatten() for i in x_test])"
   ]
  },
  {
   "cell_type": "markdown",
   "metadata": {
    "_uuid": "0d80e740885bcf787ceffd6fb2de2d7f47df6710",
    "collapsed": true
   },
   "source": [
    "Since our target variable are in categorical(nomial) so we are using label binarizer"
   ]
  },
  {
   "cell_type": "code",
   "execution_count": 9,
   "metadata": {
    "_uuid": "796cf96b649f38bdece4403bf719e5788857f296"
   },
   "outputs": [],
   "source": [
    "from sklearn.preprocessing import LabelBinarizer\n",
    "label_binrizer = LabelBinarizer()\n",
    "y_train = label_binrizer.fit_transform(y_train)\n",
    "y_test = label_binrizer.fit_transform(y_test)"
   ]
  },
  {
   "cell_type": "markdown",
   "metadata": {
    "_uuid": "d73108efa38f76b1fb2da496a623a1fc70a4c53f"
   },
   "source": [
    "Lets see how the images look"
   ]
  },
  {
   "cell_type": "code",
   "execution_count": 10,
   "metadata": {
    "_kg_hide-input": true,
    "_uuid": "3381e5155295c437768c05889ac3fe5b449a1c7d",
    "scrolled": true
   },
   "outputs": [
    {
     "data": {
      "text/plain": [
       "<matplotlib.image.AxesImage at 0x2460a499908>"
      ]
     },
     "execution_count": 10,
     "metadata": {},
     "output_type": "execute_result"
    },
    {
     "data": {
      "image/png": "[encoded data removed]",
      "text/plain": [
       "<Figure size 432x288 with 1 Axes>"
      ]
     },
     "metadata": {
      "needs_background": "light"
     },
     "output_type": "display_data"
    }
   ],
   "source": [
    "plt.imshow(x_train[0].reshape(28,28))"
   ]
  },
  {
   "cell_type": "markdown",
   "metadata": {
    "_uuid": "ba7bfbf01786a077db6287f795469308e2e37044"
   },
   "source": [
    "Spliting the dataset into train(70%) and test(30%)"
   ]
  },
  {
   "cell_type": "code",
   "execution_count": 11,
   "metadata": {
    "_uuid": "a2998dd21e53a4f15514277995491eafc5f6b235"
   },
   "outputs": [],
   "source": [
    "from sklearn.model_selection import train_test_split"
   ]
  },
  {
   "cell_type": "markdown",
   "metadata": {
    "_uuid": "ca7ff22abf6130778af7ec7e8c1062365b1a5179",
    "collapsed": true
   },
   "source": [
    "For deep learning i am using keras library"
   ]
  },
  {
   "cell_type": "code",
   "execution_count": 12,
   "metadata": {
    "_uuid": "3ec82309ac0cd088766cfccd095401d706c09462"
   },
   "outputs": [],
   "source": [
    "from tensorflow.keras.models import Sequential\n",
    "from tensorflow.keras.layers import Dense, Conv2D, MaxPooling2D, Flatten, Dropout"
   ]
  },
  {
   "cell_type": "markdown",
   "metadata": {
    "_uuid": "0d6db165b0ca7701969b6ab373182e475dfdf8c9"
   },
   "source": [
    "Creating the batch size to 128 and using 50 epochs"
   ]
  },
  {
   "cell_type": "code",
   "execution_count": 13,
   "metadata": {
    "_uuid": "4321e7c0755b03a7ed072cab088d02b27f3f734f"
   },
   "outputs": [],
   "source": [
    "batch_size = 128\n",
    "num_classes = 24\n",
    "epochs = 50"
   ]
  },
  {
   "cell_type": "markdown",
   "metadata": {
    "_uuid": "642c57023e8cc89f7ec0d90c16ffa3c4c3db78f6"
   },
   "source": [
    "Normalizing the training and test data"
   ]
  },
  {
   "cell_type": "code",
   "execution_count": 14,
   "metadata": {
    "_uuid": "c844dbe8b17ca2926268369d41b2973ffe5e9070"
   },
   "outputs": [],
   "source": [
    "x_train = x_train.astype('float32') / 255.0\n",
    "x_test = x_test.astype('float32') / 255.0"
   ]
  },
  {
   "cell_type": "code",
   "execution_count": 15,
   "metadata": {
    "_uuid": "1cb372496acf0b6e5ffb4a951d4445929fed7706"
   },
   "outputs": [],
   "source": [
    "x_train = x_train.reshape(x_train.shape[0], 28, 28, 1)"
   ]
  },
  {
   "cell_type": "code",
   "execution_count": 16,
   "metadata": {
    "_uuid": "8c557ee15f0f647690965549ce66a64645a91829"
   },
   "outputs": [],
   "source": [
    "x_test = x_test.reshape(x_test.shape[0], 28, 28, 1)"
   ]
  },
  {
   "cell_type": "markdown",
   "metadata": {
    "_uuid": "09645baa07e52c8dc13b386764ed84b6f23a1078"
   },
   "source": [
    "Visualizing the image after normalizing"
   ]
  },
  {
   "cell_type": "code",
   "execution_count": 17,
   "metadata": {
    "_uuid": "9556ccbe5f61082d473f9fbafa1f741e8767a496"
   },
   "outputs": [
    {
     "data": {
      "text/plain": [
       "<matplotlib.image.AxesImage at 0x2461bfaaa88>"
      ]
     },
     "execution_count": 17,
     "metadata": {},
     "output_type": "execute_result"
    },
    {
     "data": {
      "image/png": "[encoded data removed]",
      "text/plain": [
       "<Figure size 432x288 with 1 Axes>"
      ]
     },
     "metadata": {
      "needs_background": "light"
     },
     "output_type": "display_data"
    }
   ],
   "source": [
    "plt.imshow(x_train[0].reshape(28,28))"
   ]
  },
  {
   "cell_type": "markdown",
   "metadata": {
    "_uuid": "82f51a8ea917e21a1059c8e02c38c6a73ff7e994"
   },
   "source": [
    "# CNN Model"
   ]
  },
  {
   "cell_type": "code",
   "execution_count": 18,
   "metadata": {
    "_uuid": "31b10d7abd4b28e7de20a46bab97b87bdf797fdb"
   },
   "outputs": [],
   "source": [
    "model = Sequential()\n",
    "model.add(Conv2D(8, kernel_size=(3,3), activation = 'relu', input_shape=(28, 28 ,1) ))\n",
    "model.add(Conv2D(8, kernel_size = (3, 3), activation = 'relu'))\n",
    "model.add(MaxPooling2D(pool_size = (2, 2)))\n",
    "\n",
    "model.add(Conv2D(16, kernel_size = (3, 3), activation = 'relu'))\n",
    "model.add(Conv2D(16, kernel_size = (3, 3), activation = 'relu'))\n",
    "model.add(MaxPooling2D(pool_size = (2, 2)))\n",
    "model.add(Dropout(0.5))\n",
    "\n",
    "model.add(Conv2D(32, kernel_size = (3, 3), activation = 'relu'))\n",
    "model.add(MaxPooling2D(pool_size = (2, 2)))\n",
    "model.add(Dropout(0.5))\n",
    "\n",
    "model.add(Flatten())\n",
    "#model.add(Dense(128, activation = 'relu'))\n",
    "#model.add(Dropout(0.20))\n",
    "\n",
    "model.add(Dense(num_classes, activation = 'softmax'))"
   ]
  },
  {
   "cell_type": "code",
   "execution_count": 19,
   "metadata": {},
   "outputs": [
    {
     "name": "stdout",
     "output_type": "stream",
     "text": [
      "Model: \"sequential\"\n",
      "_________________________________________________________________\n",
      "Layer (type)                 Output Shape              Param #   \n",
      "=================================================================\n",
      "conv2d (Conv2D)              (None, 26, 26, 8)         80        \n",
      "_________________________________________________________________\n",
      "conv2d_1 (Conv2D)            (None, 24, 24, 8)         584       \n",
      "_________________________________________________________________\n",
      "max_pooling2d (MaxPooling2D) (None, 12, 12, 8)         0         \n",
      "_________________________________________________________________\n",
      "conv2d_2 (Conv2D)            (None, 10, 10, 16)        1168      \n",
      "_________________________________________________________________\n",
      "conv2d_3 (Conv2D)            (None, 8, 8, 16)          2320      \n",
      "_________________________________________________________________\n",
      "max_pooling2d_1 (MaxPooling2 (None, 4, 4, 16)          0         \n",
      "_________________________________________________________________\n",
      "dropout (Dropout)            (None, 4, 4, 16)          0         \n",
      "_________________________________________________________________\n",
      "conv2d_4 (Conv2D)            (None, 2, 2, 32)          4640      \n",
      "_________________________________________________________________\n",
      "max_pooling2d_2 (MaxPooling2 (None, 1, 1, 32)          0         \n",
      "_________________________________________________________________\n",
      "dropout_1 (Dropout)          (None, 1, 1, 32)          0         \n",
      "_________________________________________________________________\n",
      "flatten (Flatten)            (None, 32)                0         \n",
      "_________________________________________________________________\n",
      "dense (Dense)                (None, 24)                792       \n",
      "=================================================================\n",
      "Total params: 9,584\n",
      "Trainable params: 9,584\n",
      "Non-trainable params: 0\n",
      "_________________________________________________________________\n"
     ]
    }
   ],
   "source": [
    "model.summary()"
   ]
  },
  {
   "cell_type": "code",
   "execution_count": 20,
   "metadata": {
    "_uuid": "b3f7e5cbaf7fd6a0b87cbaa2a91febc373fa41ae"
   },
   "outputs": [],
   "source": [
    "import tensorflow\n",
    "\n",
    "model.compile(loss = tensorflow.keras.losses.categorical_crossentropy, optimizer=tensorflow.keras.optimizers.Adam(),metrics = ['accuracy'])"
   ]
  },
  {
   "cell_type": "code",
   "execution_count": 21,
   "metadata": {
    "_uuid": "f8017080980e9d0e1a97782e518e502ba3e71b13",
    "scrolled": true
   },
   "outputs": [
    {
     "name": "stdout",
     "output_type": "stream",
     "text": [
      "Train on 27455 samples, validate on 7172 samples\n",
      "Epoch 1/50\n",
      "27455/27455 [==============================] - 4s 144us/sample - loss: 2.9216 - accuracy: 0.1022 - val_loss: 0.0408 - val_accuracy: 0.2969\n",
      "Epoch 2/50\n",
      "27455/27455 [==============================] - 1s 43us/sample - loss: 2.2598 - accuracy: 0.2499 - val_loss: 0.0308 - val_accuracy: 0.4766\n",
      "Epoch 3/50\n",
      "27455/27455 [==============================] - 1s 49us/sample - loss: 1.8878 - accuracy: 0.3602 - val_loss: 0.0258 - val_accuracy: 0.5938\n",
      "Epoch 4/50\n",
      "27455/27455 [==============================] - 1s 50us/sample - loss: 1.6768 - accuracy: 0.4257 - val_loss: 0.0225 - val_accuracy: 0.5703\n",
      "Epoch 5/50\n",
      "27455/27455 [==============================] - 1s 48us/sample - loss: 1.5414 - accuracy: 0.4737 - val_loss: 0.0207 - val_accuracy: 0.6562\n",
      "Epoch 6/50\n",
      "27455/27455 [==============================] - 2s 55us/sample - loss: 1.4484 - accuracy: 0.4962 - val_loss: 0.0196 - val_accuracy: 0.6562\n",
      "Epoch 7/50\n",
      "27455/27455 [==============================] - 2s 66us/sample - loss: 1.3641 - accuracy: 0.5253 - val_loss: 0.0181 - val_accuracy: 0.7031\n",
      "Epoch 8/50\n",
      "27455/27455 [==============================] - 1s 51us/sample - loss: 1.3033 - accuracy: 0.5462 - val_loss: 0.0171 - val_accuracy: 0.7031\n",
      "Epoch 9/50\n",
      "27455/27455 [==============================] - 1s 52us/sample - loss: 1.2484 - accuracy: 0.5599 - val_loss: 0.0160 - val_accuracy: 0.6875\n",
      "Epoch 10/50\n",
      "27455/27455 [==============================] - 1s 49us/sample - loss: 1.1962 - accuracy: 0.5756 - val_loss: 0.0152 - val_accuracy: 0.7422\n",
      "Epoch 11/50\n",
      "27455/27455 [==============================] - 1s 50us/sample - loss: 1.1827 - accuracy: 0.5821 - val_loss: 0.0149 - val_accuracy: 0.7344\n",
      "Epoch 12/50\n",
      "27455/27455 [==============================] - 2s 65us/sample - loss: 1.1422 - accuracy: 0.5946 - val_loss: 0.0150 - val_accuracy: 0.7500\n",
      "Epoch 13/50\n",
      "27455/27455 [==============================] - 1s 45us/sample - loss: 1.1084 - accuracy: 0.6067 - val_loss: 0.0139 - val_accuracy: 0.7500\n",
      "Epoch 14/50\n",
      "27455/27455 [==============================] - 1s 49us/sample - loss: 1.0823 - accuracy: 0.6157 - val_loss: 0.0130 - val_accuracy: 0.8125\n",
      "Epoch 15/50\n",
      "27455/27455 [==============================] - 1s 40us/sample - loss: 1.0669 - accuracy: 0.6216 - val_loss: 0.0129 - val_accuracy: 0.7578\n",
      "Epoch 16/50\n",
      "27455/27455 [==============================] - 1s 43us/sample - loss: 1.0449 - accuracy: 0.6265 - val_loss: 0.0126 - val_accuracy: 0.8047\n",
      "Epoch 17/50\n",
      "27455/27455 [==============================] - 1s 38us/sample - loss: 1.0238 - accuracy: 0.6368 - val_loss: 0.0132 - val_accuracy: 0.7422\n",
      "Epoch 18/50\n",
      "27455/27455 [==============================] - 1s 43us/sample - loss: 1.0120 - accuracy: 0.6406 - val_loss: 0.0121 - val_accuracy: 0.7891\n",
      "Epoch 19/50\n",
      "27455/27455 [==============================] - 1s 42us/sample - loss: 0.9939 - accuracy: 0.6442 - val_loss: 0.0121 - val_accuracy: 0.7812\n",
      "Epoch 20/50\n",
      "27455/27455 [==============================] - 1s 38us/sample - loss: 0.9776 - accuracy: 0.6532 - val_loss: 0.0117 - val_accuracy: 0.7500\n",
      "Epoch 21/50\n",
      "27455/27455 [==============================] - 1s 40us/sample - loss: 0.9572 - accuracy: 0.6607 - val_loss: 0.0113 - val_accuracy: 0.7891\n",
      "Epoch 22/50\n",
      "27455/27455 [==============================] - 1s 48us/sample - loss: 0.9542 - accuracy: 0.6603 - val_loss: 0.0111 - val_accuracy: 0.8203\n",
      "Epoch 23/50\n",
      "27455/27455 [==============================] - 1s 52us/sample - loss: 0.9283 - accuracy: 0.6692 - val_loss: 0.0104 - val_accuracy: 0.8281\n",
      "Epoch 24/50\n",
      "27455/27455 [==============================] - 1s 44us/sample - loss: 0.9165 - accuracy: 0.6759 - val_loss: 0.0109 - val_accuracy: 0.8125\n",
      "Epoch 25/50\n",
      "27455/27455 [==============================] - 2s 81us/sample - loss: 0.8998 - accuracy: 0.6827 - val_loss: 0.0108 - val_accuracy: 0.8203\n",
      "Epoch 26/50\n",
      "27455/27455 [==============================] - 1s 51us/sample - loss: 0.8878 - accuracy: 0.6834 - val_loss: 0.0098 - val_accuracy: 0.8125\n",
      "Epoch 27/50\n",
      "27455/27455 [==============================] - 1s 48us/sample - loss: 0.8781 - accuracy: 0.6888 - val_loss: 0.0097 - val_accuracy: 0.8047\n",
      "Epoch 28/50\n",
      "27455/27455 [==============================] - 2s 58us/sample - loss: 0.8694 - accuracy: 0.6901 - val_loss: 0.0104 - val_accuracy: 0.8047\n",
      "Epoch 29/50\n",
      "27455/27455 [==============================] - 2s 69us/sample - loss: 0.8567 - accuracy: 0.6981 - val_loss: 0.0098 - val_accuracy: 0.8047\n",
      "Epoch 30/50\n",
      "27455/27455 [==============================] - 1s 40us/sample - loss: 0.8324 - accuracy: 0.7065 - val_loss: 0.0092 - val_accuracy: 0.8359\n",
      "Epoch 31/50\n",
      "27455/27455 [==============================] - 1s 44us/sample - loss: 0.8309 - accuracy: 0.7037 - val_loss: 0.0093 - val_accuracy: 0.8359\n",
      "Epoch 32/50\n",
      "27455/27455 [==============================] - 1s 39us/sample - loss: 0.8236 - accuracy: 0.7074 - val_loss: 0.0093 - val_accuracy: 0.7969\n",
      "Epoch 33/50\n",
      "27455/27455 [==============================] - 1s 53us/sample - loss: 0.8169 - accuracy: 0.7106 - val_loss: 0.0091 - val_accuracy: 0.8281\n",
      "Epoch 34/50\n",
      "27455/27455 [==============================] - 2s 63us/sample - loss: 0.7974 - accuracy: 0.7207 - val_loss: 0.0085 - val_accuracy: 0.8359\n",
      "Epoch 35/50\n",
      "27455/27455 [==============================] - 1s 48us/sample - loss: 0.8048 - accuracy: 0.7141 - val_loss: 0.0084 - val_accuracy: 0.8828\n",
      "Epoch 36/50\n",
      "27455/27455 [==============================] - 1s 48us/sample - loss: 0.7894 - accuracy: 0.7216 - val_loss: 0.0088 - val_accuracy: 0.8281\n",
      "Epoch 37/50\n",
      "27455/27455 [==============================] - 1s 40us/sample - loss: 0.7664 - accuracy: 0.7273 - val_loss: 0.0084 - val_accuracy: 0.8516\n",
      "Epoch 38/50\n",
      "27455/27455 [==============================] - 1s 39us/sample - loss: 0.7565 - accuracy: 0.7304 - val_loss: 0.0081 - val_accuracy: 0.8359\n",
      "Epoch 39/50\n",
      "27455/27455 [==============================] - 1s 45us/sample - loss: 0.7416 - accuracy: 0.7385 - val_loss: 0.0075 - val_accuracy: 0.8906\n",
      "Epoch 40/50\n",
      "27455/27455 [==============================] - 2s 57us/sample - loss: 0.7391 - accuracy: 0.7388 - val_loss: 0.0082 - val_accuracy: 0.8359\n",
      "Epoch 41/50\n",
      "27455/27455 [==============================] - 1s 48us/sample - loss: 0.7462 - accuracy: 0.7382 - val_loss: 0.0075 - val_accuracy: 0.8594\n",
      "Epoch 42/50\n",
      "27455/27455 [==============================] - 1s 53us/sample - loss: 0.7454 - accuracy: 0.7365 - val_loss: 0.0085 - val_accuracy: 0.8672\n",
      "Epoch 43/50\n",
      "27455/27455 [==============================] - 2s 55us/sample - loss: 0.7180 - accuracy: 0.7454 - val_loss: 0.0075 - val_accuracy: 0.8594\n",
      "Epoch 44/50\n",
      "27455/27455 [==============================] - 2s 55us/sample - loss: 0.7053 - accuracy: 0.7490 - val_loss: 0.0070 - val_accuracy: 0.8672\n",
      "Epoch 45/50\n",
      "27455/27455 [==============================] - 1s 45us/sample - loss: 0.7062 - accuracy: 0.7490 - val_loss: 0.0063 - val_accuracy: 0.8906\n",
      "Epoch 46/50\n",
      "27455/27455 [==============================] - 1s 40us/sample - loss: 0.6996 - accuracy: 0.7486 - val_loss: 0.0071 - val_accuracy: 0.8594\n",
      "Epoch 47/50\n",
      "27455/27455 [==============================] - 2s 55us/sample - loss: 0.6864 - accuracy: 0.7571 - val_loss: 0.0066 - val_accuracy: 0.8828\n",
      "Epoch 48/50\n",
      "27455/27455 [==============================] - 1s 42us/sample - loss: 0.6825 - accuracy: 0.7581 - val_loss: 0.0063 - val_accuracy: 0.9297\n",
      "Epoch 49/50\n",
      "27455/27455 [==============================] - 1s 45us/sample - loss: 0.6799 - accuracy: 0.7557 - val_loss: 0.0065 - val_accuracy: 0.9062\n",
      "Epoch 50/50\n",
      "27455/27455 [==============================] - 2s 62us/sample - loss: 0.6848 - accuracy: 0.7548 - val_loss: 0.0068 - val_accuracy: 0.8828\n"
     ]
    }
   ],
   "source": [
    "history = model.fit(x_train, y_train,validation_data=(x_test, y_test),validation_steps = 1, epochs=epochs, batch_size=batch_size)"
   ]
  },
  {
   "cell_type": "code",
   "execution_count": 22,
   "metadata": {
    "_uuid": "fb2775e7f90958e544d84c476bcb52bd985e6395"
   },
   "outputs": [
    {
     "data": {
      "image/png": "[encoded data removed]",
      "text/plain": [
       "<Figure size 432x288 with 1 Axes>"
      ]
     },
     "metadata": {
      "needs_background": "light"
     },
     "output_type": "display_data"
    },
    {
     "data": {
      "image/png": "[encoded data removed]",
      "text/plain": [
       "<Figure size 432x288 with 1 Axes>"
      ]
     },
     "metadata": {
      "needs_background": "light"
     },
     "output_type": "display_data"
    }
   ],
   "source": [
    "plt.plot(history.history['accuracy'])\n",
    "plt.plot(history.history['val_accuracy'])\n",
    "plt.title(\"Accuracy\")\n",
    "plt.xlabel('epoch')\n",
    "plt.ylabel('accuracy')\n",
    "plt.legend(['train','test'])\n",
    "\n",
    "plt.show()\n",
    "\n",
    "plt.plot(history.history['loss'])\n",
    "plt.plot(history.history['val_loss'])\n",
    "plt.title(\"Loss\")\n",
    "plt.xlabel('epoch')\n",
    "plt.ylabel('loss')\n",
    "plt.legend(['train','test'])\n",
    "\n",
    "plt.show()"
   ]
  },
  {
   "cell_type": "markdown",
   "metadata": {
    "_uuid": "364ebc9e410934e1ce04aee1052255d70a25c0fc"
   },
   "source": [
    "As you can see, the number of epochs increase the accuracy also increases."
   ]
  },
  {
   "cell_type": "markdown",
   "metadata": {
    "_uuid": "7f16f3a253826a51b7ad38bb2576bf200173581f"
   },
   "source": [
    "Let's validate with the test data"
   ]
  },
  {
   "cell_type": "markdown",
   "metadata": {
    "_uuid": "e486c080ea745082f91ca1d2cfc0aac975afdd3b"
   },
   "source": [
    "test_labels = test['label']"
   ]
  },
  {
   "cell_type": "markdown",
   "metadata": {
    "_uuid": "928db66ba635ba5cfc2726d8999221b40ccb65c6"
   },
   "source": [
    "test.drop('label', axis = 1, inplace = True)"
   ]
  },
  {
   "cell_type": "markdown",
   "metadata": {
    "_uuid": "7784e23a832e38afafcf619b779a43f10a1ff324"
   },
   "source": [
    "test_images = test.values\n",
    "test_images = np.array([np.reshape(i, (28, 28)) for i in test_images])\n",
    "test_images = np.array([i.flatten() for i in test_images])"
   ]
  },
  {
   "cell_type": "markdown",
   "metadata": {
    "_uuid": "d7b3c7af0b9d568322311fce747bf9e6dc38a7e3"
   },
   "source": [
    "test_labels = label_binrizer.fit_transform(test_labels)"
   ]
  },
  {
   "cell_type": "markdown",
   "metadata": {
    "_uuid": "f3ce64a4b948d953cfb30bfee2da40c91c097149"
   },
   "source": [
    "test_images = test_images.reshape(test_images.shape[0], 28, 28, 1)\n",
    "test_images = test_images.astype('float32')"
   ]
  },
  {
   "cell_type": "markdown",
   "metadata": {
    "_uuid": "f052e644cc78e783b928c28f2fdaf489d02db2a8"
   },
   "source": [
    "test_images.shape"
   ]
  },
  {
   "cell_type": "markdown",
   "metadata": {
    "_uuid": "8e4a7b58496038c7d5b33b30e5039cd6f283369e"
   },
   "source": [
    "Predecting with test images"
   ]
  },
  {
   "cell_type": "code",
   "execution_count": 23,
   "metadata": {
    "_uuid": "27670fc85328b772e9cf2446f091be92bf85c44b"
   },
   "outputs": [],
   "source": [
    "y_pred = model.predict(x_test)"
   ]
  },
  {
   "cell_type": "code",
   "execution_count": 24,
   "metadata": {
    "_uuid": "338856c7e654588d95949cac42bdec5e9764577c"
   },
   "outputs": [],
   "source": [
    "from sklearn.metrics import accuracy_score"
   ]
  },
  {
   "cell_type": "code",
   "execution_count": 25,
   "metadata": {
    "_uuid": "eeb5aed5bf49f586df371798cb0bd25f437f60de"
   },
   "outputs": [
    {
     "data": {
      "text/plain": [
       "0.7997769102063581"
      ]
     },
     "execution_count": 25,
     "metadata": {},
     "output_type": "execute_result"
    }
   ],
   "source": [
    "accuracy_score(y_test, y_pred.round())"
   ]
  },
  {
   "cell_type": "code",
   "execution_count": 26,
   "metadata": {},
   "outputs": [],
   "source": [
    "#Helper function to plot confusion matrix\n",
    "def plot_confusion_matrix(y, y_pred):\n",
    "    y = np.argmax(y, axis = 1)\n",
    "    y_pred = np.argmax(y_pred, axis = 1)\n",
    "    cm = confusion_matrix(y, y_pred)\n",
    "    plt.figure(figsize = (24, 24))\n",
    "    ax = plt.subplot()\n",
    "    plt.imshow(cm, interpolation = 'nearest', cmap = plt.cm.Purples)\n",
    "    plt.colorbar()\n",
    "    plt.title(\"Confusion Matrix\")\n",
    "    tick_marks = np.arange(len(uniqval))\n",
    "    plt.xticks(tick_marks, uniqval, rotation=45)\n",
    "    plt.yticks(tick_marks, uniqval)\n",
    "    plt.ylabel('True label')\n",
    "    plt.xlabel('Predicted label')\n",
    "    ax.title.set_fontsize(20)\n",
    "    ax.xaxis.label.set_fontsize(16)\n",
    "    ax.yaxis.label.set_fontsize(16)\n",
    "    limit = cm.max() / 2.\n",
    "    for i, j in itertools.product(range(cm.shape[0]), range(cm.shape[1])):\n",
    "        plt.text(j, i, format(cm[i, j], 'd'), horizontalalignment = \"center\",color = \"white\" if cm[i, j] > limit else \"black\")\n",
    "    plt.show()"
   ]
  },
  {
   "cell_type": "code",
   "execution_count": 27,
   "metadata": {},
   "outputs": [
    {
     "data": {
      "image/png": "[encoded data removed]",
      "text/plain": [
       "<Figure size 1728x1728 with 2 Axes>"
      ]
     },
     "metadata": {
      "needs_background": "light"
     },
     "output_type": "display_data"
    }
   ],
   "source": [
    "from sklearn.metrics import confusion_matrix\n",
    "import itertools\n",
    "\n",
    "y_test_pred = model.predict(x_test, batch_size = 64, verbose = 0)\n",
    "plot_confusion_matrix(y_test, y_test_pred)"
   ]
  },
  {
   "cell_type": "markdown",
   "metadata": {
    "_uuid": "c06ce8efc9b99d13dd90e13f899e3cfa00f39fd8",
    "collapsed": true
   },
   "source": [
    "As we can see we got a really great accuracy "
   ]
  },
  {
   "cell_type": "markdown",
   "metadata": {
    "_uuid": "a85cd666be3a99bb26c97f7fde9d35d5155ed204",
    "collapsed": true
   },
   "source": []
  },
  {
   "cell_type": "markdown",
   "metadata": {
    "_uuid": "9eb678647d643867930b4beb7135672ac811fdb4",
    "collapsed": true
   },
   "source": [
    "We can increate the accuracy by tuning the hyper parameters of the model like playing with different activation functions and using different loss functions"
   ]
  }
 ],
 "metadata": {
  "kernelspec": {
   "display_name": "Python 3",
   "language": "python",
   "name": "python3"
  },
  "language_info": {
   "codemirror_mode": {
    "name": "ipython",
    "version": 3
   },
   "file_extension": ".py",
   "mimetype": "text/x-python",
   "name": "python",
   "nbconvert_exporter": "python",
   "pygments_lexer": "ipython3",
   "version": "3.7.5"
  }
 },
 "nbformat": 4,
 "nbformat_minor": 1
}
